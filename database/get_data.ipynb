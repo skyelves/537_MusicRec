{
 "cells": [
  {
   "cell_type": "code",
   "execution_count": 40,
   "metadata": {},
   "outputs": [],
   "source": [
    "import json\n",
    "import pandas as pd\n",
    "from spotify_client import *"
   ]
  },
  {
   "cell_type": "code",
   "execution_count": 6,
   "metadata": {},
   "outputs": [
    {
     "data": {
      "text/plain": [
       "<function TextIOWrapper.close()>"
      ]
     },
     "execution_count": 6,
     "metadata": {},
     "output_type": "execute_result"
    }
   ],
   "source": [
    "f = open(\"challenge_set.json\")\n",
    "data = json.load(f)\n",
    "f.close"
   ]
  },
  {
   "cell_type": "code",
   "execution_count": 7,
   "metadata": {},
   "outputs": [],
   "source": [
    "playlists = [pl for pl in data[\"playlists\"] if len(pl[\"tracks\"]) > 0]"
   ]
  },
  {
   "cell_type": "code",
   "execution_count": 32,
   "metadata": {},
   "outputs": [],
   "source": [
    "playlists, track_ids, album_ids, artist_ids = [], set(), set(), set()\n",
    "\n",
    "for item in data[\"playlists\"][:3000]:\n",
    "    if len(item[\"tracks\"]) > 0 and \"name\" in item and item[\"name\"].isalpha():\n",
    "        pid = item[\"pid\"]\n",
    "        name = item[\"name\"]\n",
    "        for track in item[\"tracks\"]:\n",
    "            track_id = track[\"track_uri\"].split(\":\")[-1]\n",
    "            album_id = track[\"album_uri\"].split(\":\")[-1]\n",
    "            artist_id = track[\"artist_uri\"].split(\":\")[-1]\n",
    "\n",
    "            playlists.append([item[\"pid\"], item[\"name\"], track_id])\n",
    "            track_ids.add(track_id)\n",
    "            album_ids.add(album_id)\n",
    "            artist_ids.add(artist_id)"
   ]
  },
  {
   "cell_type": "code",
   "execution_count": 68,
   "metadata": {},
   "outputs": [],
   "source": [
    "playlists = pd.DataFrame(playlists, columns = [\"playlist_id\", \"playlist_name\", \"track_id\"])\n",
    "playlists.to_csv(\"playlists.csv\", index=False)"
   ]
  },
  {
   "cell_type": "markdown",
   "metadata": {},
   "source": [
    "Get data from Spotify"
   ]
  },
  {
   "cell_type": "code",
   "execution_count": 41,
   "metadata": {},
   "outputs": [],
   "source": [
    "client_id = \"bfd320eaa2cf4397bf9f4a23159fe35b\"\n",
    "client_secret = \"5a7bc7833a9341149a73849fd5a953ca\"\n",
    "spotify = SpotifyAPI(client_id, client_secret)"
   ]
  },
  {
   "cell_type": "code",
   "execution_count": 52,
   "metadata": {},
   "outputs": [],
   "source": [
    "tracks = []\n",
    "for track_id in track_ids:\n",
    "    data = spotify.get_resource(query=f\"tracks/{track_id}\")\n",
    "    track_name = data['name']\n",
    "    popularity = data['popularity']\n",
    "    album_id = data['album']['id']\n",
    "    tracks.append([track_id, track_name, popularity, album_id])\n",
    "tracks = pd.DataFrame(tracks, columns = [\"track_id\", \"track_name\", \"popularity\", \"album_id\"])"
   ]
  },
  {
   "cell_type": "code",
   "execution_count": 69,
   "metadata": {},
   "outputs": [],
   "source": [
    "tracks = pd.DataFrame(tracks, columns = [\"track_id\", \"track_name\", \"popularity\", \"album_id\"])\n",
    "tracks.to_csv(\"tracks.csv\", index=False)"
   ]
  },
  {
   "cell_type": "code",
   "execution_count": 85,
   "metadata": {},
   "outputs": [],
   "source": [
    "albums = []\n",
    "for album_id in album_ids:\n",
    "    data = spotify.get_resource(query=f\"albums/{album_id}\")\n",
    "    album_name = data['name']\n",
    "    total_tracks = data['total_tracks']\n",
    "    popularity = data['popularity']\n",
    "    artist_id = data['artists'][0]['id']\n",
    "    release_date = data['release_date']\n",
    "    albums.append([album_id, album_name, total_tracks, popularity, artist_id, release_date])"
   ]
  },
  {
   "cell_type": "code",
   "execution_count": 86,
   "metadata": {},
   "outputs": [],
   "source": [
    "albums = pd.DataFrame(albums, columns = ['album_id', 'album_name', 'total_tracks', 'popularity', 'artist_id', 'release_date'])\n",
    "albums.to_csv(\"albums.csv\", index=False)"
   ]
  },
  {
   "cell_type": "code",
   "execution_count": 80,
   "metadata": {},
   "outputs": [],
   "source": [
    "artists = []\n",
    "for artist_id in artist_ids:\n",
    "    data = spotify.get_resource(query=f\"artists/{artist_id}\")\n",
    "    artist_name = data['name']\n",
    "    popularity = data['popularity']\n",
    "    genre1 = data['genres'][0] if len(data['genres']) > 0 else None\n",
    "    genre2 = data['genres'][1] if len(data['genres']) > 1 else None\n",
    "    artists.append([artist_id, artist_name, popularity, genre1, genre2])"
   ]
  },
  {
   "cell_type": "code",
   "execution_count": 81,
   "metadata": {},
   "outputs": [],
   "source": [
    "artists = pd.DataFrame(artists, columns = ['artist_id', 'artist_name', 'popularity', 'genre1', 'genre2'])\n",
    "artists.to_csv(\"artists.csv\", index=False)"
   ]
  }
 ],
 "metadata": {
  "kernelspec": {
   "display_name": "Python 3.9.12 ('base')",
   "language": "python",
   "name": "python3"
  },
  "language_info": {
   "codemirror_mode": {
    "name": "ipython",
    "version": 3
   },
   "file_extension": ".py",
   "mimetype": "text/x-python",
   "name": "python",
   "nbconvert_exporter": "python",
   "pygments_lexer": "ipython3",
   "version": "3.9.12"
  },
  "orig_nbformat": 4,
  "vscode": {
   "interpreter": {
    "hash": "e054da906f755f1048e3d8b52f406ec9cbc9b8d32a28cf5e40dbd6c773cda24f"
   }
  }
 },
 "nbformat": 4,
 "nbformat_minor": 2
}
