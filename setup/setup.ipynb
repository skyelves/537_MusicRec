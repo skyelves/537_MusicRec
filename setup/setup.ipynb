{
 "cells": [
  {
   "cell_type": "markdown",
   "metadata": {},
   "source": [
    "## Credentials"
   ]
  },
  {
   "cell_type": "code",
   "execution_count": 1,
   "metadata": {},
   "outputs": [],
   "source": [
    "import os\n",
    "# Replace the access_key_path with your own key file json path\n",
    "access_key_path = \"/Users/weiyili/Desktop/CPSC 537 Database/537_MusicRec/setup/cpsc537-final-project-d7d609794498.json\"\n",
    "os.environ[\"GOOGLE_APPLICATION_CREDENTIALS\"] = access_key_path"
   ]
  },
  {
   "cell_type": "markdown",
   "metadata": {},
   "source": [
    "## Install the client library"
   ]
  },
  {
   "cell_type": "code",
   "execution_count": 10,
   "metadata": {},
   "outputs": [],
   "source": [
    "# I am using a conda python environment\n",
    "# pip install --upgrade google-cloud-bigquery"
   ]
  },
  {
   "cell_type": "markdown",
   "metadata": {},
   "source": [
    "## Import the libraries"
   ]
  },
  {
   "cell_type": "code",
   "execution_count": 2,
   "metadata": {},
   "outputs": [],
   "source": [
    "from google.cloud import bigquery"
   ]
  },
  {
   "cell_type": "markdown",
   "metadata": {},
   "source": [
    "## Initialize a BigQuery client"
   ]
  },
  {
   "cell_type": "code",
   "execution_count": 3,
   "metadata": {},
   "outputs": [],
   "source": [
    "client = bigquery.Client().from_service_account_json(access_key_path)"
   ]
  },
  {
   "cell_type": "markdown",
   "metadata": {},
   "source": [
    "## Query the dataset"
   ]
  },
  {
   "cell_type": "code",
   "execution_count": 7,
   "metadata": {},
   "outputs": [],
   "source": [
    "query_job = client.query(\n",
    "    \"\"\"\n",
    "    SELECT *\n",
    "    FROM `music_data.albums`\n",
    "    LIMIT 10\n",
    "    \"\"\"\n",
    ")"
   ]
  },
  {
   "cell_type": "markdown",
   "metadata": {},
   "source": [
    "### Get query result as a dataframe"
   ]
  },
  {
   "cell_type": "code",
   "execution_count": 11,
   "metadata": {},
   "outputs": [
    {
     "data": {
      "text/html": [
       "<div>\n",
       "<style scoped>\n",
       "    .dataframe tbody tr th:only-of-type {\n",
       "        vertical-align: middle;\n",
       "    }\n",
       "\n",
       "    .dataframe tbody tr th {\n",
       "        vertical-align: top;\n",
       "    }\n",
       "\n",
       "    .dataframe thead th {\n",
       "        text-align: right;\n",
       "    }\n",
       "</style>\n",
       "<table border=\"1\" class=\"dataframe\">\n",
       "  <thead>\n",
       "    <tr style=\"text-align: right;\">\n",
       "      <th></th>\n",
       "      <th>album_id</th>\n",
       "      <th>album_name</th>\n",
       "      <th>total_tracks</th>\n",
       "      <th>popularity</th>\n",
       "      <th>artist_id</th>\n",
       "      <th>release_date</th>\n",
       "    </tr>\n",
       "  </thead>\n",
       "  <tbody>\n",
       "    <tr>\n",
       "      <th>0</th>\n",
       "      <td>55IoPTWDaFLWGhxR7E4YSH</td>\n",
       "      <td>MotorSport</td>\n",
       "      <td>1</td>\n",
       "      <td>0</td>\n",
       "      <td>6oMuImdp5ZcFhWP0ESe6mG</td>\n",
       "      <td>2017-10-27</td>\n",
       "    </tr>\n",
       "    <tr>\n",
       "      <th>1</th>\n",
       "      <td>6Fm90FpsFy2kEd33J0m3UL</td>\n",
       "      <td>Ifyouhadazuneihateyou</td>\n",
       "      <td>1</td>\n",
       "      <td>0</td>\n",
       "      <td>5v2WhpA59TJSdPh7LCx1lN</td>\n",
       "      <td>2015-09-01</td>\n",
       "    </tr>\n",
       "    <tr>\n",
       "      <th>2</th>\n",
       "      <td>4cqXElyn3SU9jYbMhGFML2</td>\n",
       "      <td>Stay Alive (From The Secret Life Of Walter Mitty)</td>\n",
       "      <td>1</td>\n",
       "      <td>0</td>\n",
       "      <td>6xrCU6zdcSTsG2hLrojpmI</td>\n",
       "      <td>2013-01-01</td>\n",
       "    </tr>\n",
       "    <tr>\n",
       "      <th>3</th>\n",
       "      <td>0t0NkQulrNkxw2oUZZHboA</td>\n",
       "      <td>Attention</td>\n",
       "      <td>1</td>\n",
       "      <td>0</td>\n",
       "      <td>6VuMaDnrHyPL1p4EHjYLi7</td>\n",
       "      <td>2017-04-20</td>\n",
       "    </tr>\n",
       "    <tr>\n",
       "      <th>4</th>\n",
       "      <td>4RL8FEs8dRVYk8ryYSrOEJ</td>\n",
       "      <td>Adult Swim (feat. Tyga, Jeremih, &amp; Velous)</td>\n",
       "      <td>1</td>\n",
       "      <td>0</td>\n",
       "      <td>1qSJaftSab2kTTsj7fLxvM</td>\n",
       "      <td>2014-08-26</td>\n",
       "    </tr>\n",
       "    <tr>\n",
       "      <th>5</th>\n",
       "      <td>2IS597VgU3PdBGeMpJOZ1K</td>\n",
       "      <td>I Need A Doctor</td>\n",
       "      <td>1</td>\n",
       "      <td>0</td>\n",
       "      <td>6DPYiyq5kWVQS4RGwxzPC7</td>\n",
       "      <td>2011-02-01</td>\n",
       "    </tr>\n",
       "    <tr>\n",
       "      <th>6</th>\n",
       "      <td>4AabsQ6plH3OmdE6BWI04j</td>\n",
       "      <td>rockstar</td>\n",
       "      <td>1</td>\n",
       "      <td>0</td>\n",
       "      <td>246dkjvS1zLTtiykXe5h60</td>\n",
       "      <td>2017-09-15</td>\n",
       "    </tr>\n",
       "    <tr>\n",
       "      <th>7</th>\n",
       "      <td>1BreNHoU5AGb3fNppDwbKz</td>\n",
       "      <td>Boys &amp; Girls</td>\n",
       "      <td>1</td>\n",
       "      <td>0</td>\n",
       "      <td>085pc2PYOi8bGKj0PNjekA</td>\n",
       "      <td>2016-04-08</td>\n",
       "    </tr>\n",
       "    <tr>\n",
       "      <th>8</th>\n",
       "      <td>7l4LGPXk2mB80WgXy4VeuB</td>\n",
       "      <td>Waves (Robin Schulz Radio Edit)</td>\n",
       "      <td>1</td>\n",
       "      <td>0</td>\n",
       "      <td>33W1pnW9zScZtYTnAoWnOT</td>\n",
       "      <td>2014-02-07</td>\n",
       "    </tr>\n",
       "    <tr>\n",
       "      <th>9</th>\n",
       "      <td>145m5bsSW7vgq7WEwSLFYv</td>\n",
       "      <td>We Know The Way (From \"Moana\")</td>\n",
       "      <td>1</td>\n",
       "      <td>0</td>\n",
       "      <td>759h9uEwoHm8KKq1pGI9RH</td>\n",
       "      <td>2016-11-11</td>\n",
       "    </tr>\n",
       "  </tbody>\n",
       "</table>\n",
       "</div>"
      ],
      "text/plain": [
       "                 album_id                                         album_name  \\\n",
       "0  55IoPTWDaFLWGhxR7E4YSH                                         MotorSport   \n",
       "1  6Fm90FpsFy2kEd33J0m3UL                              Ifyouhadazuneihateyou   \n",
       "2  4cqXElyn3SU9jYbMhGFML2  Stay Alive (From The Secret Life Of Walter Mitty)   \n",
       "3  0t0NkQulrNkxw2oUZZHboA                                          Attention   \n",
       "4  4RL8FEs8dRVYk8ryYSrOEJ         Adult Swim (feat. Tyga, Jeremih, & Velous)   \n",
       "5  2IS597VgU3PdBGeMpJOZ1K                                    I Need A Doctor   \n",
       "6  4AabsQ6plH3OmdE6BWI04j                                           rockstar   \n",
       "7  1BreNHoU5AGb3fNppDwbKz                                       Boys & Girls   \n",
       "8  7l4LGPXk2mB80WgXy4VeuB                    Waves (Robin Schulz Radio Edit)   \n",
       "9  145m5bsSW7vgq7WEwSLFYv                     We Know The Way (From \"Moana\")   \n",
       "\n",
       "   total_tracks  popularity               artist_id release_date  \n",
       "0             1           0  6oMuImdp5ZcFhWP0ESe6mG   2017-10-27  \n",
       "1             1           0  5v2WhpA59TJSdPh7LCx1lN   2015-09-01  \n",
       "2             1           0  6xrCU6zdcSTsG2hLrojpmI   2013-01-01  \n",
       "3             1           0  6VuMaDnrHyPL1p4EHjYLi7   2017-04-20  \n",
       "4             1           0  1qSJaftSab2kTTsj7fLxvM   2014-08-26  \n",
       "5             1           0  6DPYiyq5kWVQS4RGwxzPC7   2011-02-01  \n",
       "6             1           0  246dkjvS1zLTtiykXe5h60   2017-09-15  \n",
       "7             1           0  085pc2PYOi8bGKj0PNjekA   2016-04-08  \n",
       "8             1           0  33W1pnW9zScZtYTnAoWnOT   2014-02-07  \n",
       "9             1           0  759h9uEwoHm8KKq1pGI9RH   2016-11-11  "
      ]
     },
     "execution_count": 11,
     "metadata": {},
     "output_type": "execute_result"
    }
   ],
   "source": [
    "# pip install db-dtypes (this library may need to be installed)\n",
    "df = query_job.to_dataframe()\n",
    "df"
   ]
  },
  {
   "cell_type": "markdown",
   "metadata": {},
   "source": [
    "### Or iterate through the RowIterator object"
   ]
  },
  {
   "cell_type": "code",
   "execution_count": 9,
   "metadata": {},
   "outputs": [
    {
     "name": "stdout",
     "output_type": "stream",
     "text": [
      "MotorSport\n",
      "Ifyouhadazuneihateyou\n",
      "Stay Alive (From The Secret Life Of Walter Mitty)\n",
      "Attention\n",
      "Adult Swim (feat. Tyga, Jeremih, & Velous)\n",
      "I Need A Doctor\n",
      "rockstar\n",
      "Boys & Girls\n",
      "Waves (Robin Schulz Radio Edit)\n",
      "We Know The Way (From \"Moana\")\n"
     ]
    }
   ],
   "source": [
    "results = query_job.result() \n",
    "for row in results:\n",
    "    print(row.album_name)"
   ]
  }
 ],
 "metadata": {
  "kernelspec": {
   "display_name": "Python 3.9.12 ('base')",
   "language": "python",
   "name": "python3"
  },
  "language_info": {
   "codemirror_mode": {
    "name": "ipython",
    "version": 3
   },
   "file_extension": ".py",
   "mimetype": "text/x-python",
   "name": "python",
   "nbconvert_exporter": "python",
   "pygments_lexer": "ipython3",
   "version": "3.9.12"
  },
  "orig_nbformat": 4,
  "vscode": {
   "interpreter": {
    "hash": "e054da906f755f1048e3d8b52f406ec9cbc9b8d32a28cf5e40dbd6c773cda24f"
   }
  }
 },
 "nbformat": 4,
 "nbformat_minor": 2
}
